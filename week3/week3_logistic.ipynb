{
 "cells": [
  {
   "cell_type": "code",
   "execution_count": 2,
   "metadata": {},
   "outputs": [
    {
     "name": "stdout",
     "output_type": "stream",
     "text": [
      "243\n",
      "7\n"
     ]
    }
   ],
   "source": [
    "import numpy as np\n",
    "import math\n",
    "import sklearn.metrics\n",
    "data = np.genfromtxt('data-logistic.csv', delimiter=',')\n",
    "x1 = data[:,1]\n",
    "x2 = data[:,2]\n",
    "y = data[:,0]\n",
    "k = 0.1 # шаг\n",
    "w10, w20 = 0., 0.\n",
    "Imax = 10000\n",
    "epsil = 1e-5\n",
    "# print(4 - y)\n",
    "def sigmoid(x):\n",
    "    return 1.0 / (1 + math.exp(-x))\n",
    "\n",
    "def distance(a, b):\n",
    "    return np.sqrt(np.square(a[0] - b[0]) + np.square(a[1] - b[1]))\n",
    "\n",
    "def log_regression(x1, x2, y, k, w, C, epsil, Imax):\n",
    "    w1, w2 = w\n",
    "    N = len(y)\n",
    "    for i in range(Imax):\n",
    "        sumx1 = 0\n",
    "        sumx2 = 0\n",
    "        for j in range(N):\n",
    "            sig = sigmoid(y[j] * (w1 * x1[j] + w2 * x2[j]))\n",
    "            sumx1 += y[j] * x1[j] * (1 - sig)\n",
    "            sumx2 += y[j] * x2[j] * (1 - sig)\n",
    "        w1_new = w1 + k * sumx1 / N - k * C * w1\n",
    "        w2_new = w2 + k * sumx2 / N - k * C * w2\n",
    "        if distance((w1_new, w2_new), (w1, w2)) < epsil:\n",
    "            break\n",
    "        w1, w2 = w1_new, w2_new\n",
    "    print(i)\n",
    "    pred = []\n",
    "    for x1elem, x2elem in zip(x1, x2):\n",
    "        pred.append(sigmoid(w1 * x1elem + w2 * x2elem))\n",
    "    return pred\n",
    "\n",
    "C = 0 # коэффициент регуляризации\n",
    "p1 = log_regression(x1, x2, y, k, (w10, w20), C, epsil, Imax)\n",
    "C = 10 # коэффициент регуляризации\n",
    "p2 = log_regression(x1, x2, y, k, (w10, w20), C, epsil, Imax)\n",
    "\n",
    "fout = open('./ans/3logistic', 'w')\n",
    "print(np.round(sklearn.metrics.roc_auc_score(y, p1), 3), end=' ', file=fout)\n",
    "print(np.round(sklearn.metrics.roc_auc_score(y, p2), 3), file=fout)\n",
    "fout.close()\n",
    "\n"
   ]
  },
  {
   "cell_type": "code",
   "execution_count": null,
   "metadata": {},
   "outputs": [],
   "source": []
  }
 ],
 "metadata": {
  "celltoolbar": "Raw Cell Format",
  "kernelspec": {
   "display_name": "Python 3",
   "language": "python",
   "name": "python3"
  },
  "language_info": {
   "codemirror_mode": {
    "name": "ipython",
    "version": 3
   },
   "file_extension": ".py",
   "mimetype": "text/x-python",
   "name": "python",
   "nbconvert_exporter": "python",
   "pygments_lexer": "ipython3",
   "version": "3.5.2"
  }
 },
 "nbformat": 4,
 "nbformat_minor": 4
}
