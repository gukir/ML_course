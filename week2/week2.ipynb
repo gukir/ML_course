{
 "cells": [
  {
   "cell_type": "code",
   "execution_count": 2,
   "metadata": {},
   "outputs": [
    {
     "data": {
      "text/plain": [
       "array([[1.000e+00, 1.423e+01, 1.710e+00, ..., 1.040e+00, 3.920e+00,\n",
       "        1.065e+03],\n",
       "       [1.000e+00, 1.320e+01, 1.780e+00, ..., 1.050e+00, 3.400e+00,\n",
       "        1.050e+03],\n",
       "       [1.000e+00, 1.316e+01, 2.360e+00, ..., 1.030e+00, 3.170e+00,\n",
       "        1.185e+03],\n",
       "       ...,\n",
       "       [3.000e+00, 1.327e+01, 4.280e+00, ..., 5.900e-01, 1.560e+00,\n",
       "        8.350e+02],\n",
       "       [3.000e+00, 1.317e+01, 2.590e+00, ..., 6.000e-01, 1.620e+00,\n",
       "        8.400e+02],\n",
       "       [3.000e+00, 1.413e+01, 4.100e+00, ..., 6.100e-01, 1.600e+00,\n",
       "        5.600e+02]])"
      ]
     },
     "execution_count": 2,
     "metadata": {},
     "output_type": "execute_result"
    }
   ],
   "source": [
    "import numpy as np\n",
    "data = np.genfromtxt('wine.data', delimiter=',')\n",
    "y = data[:,0]\n",
    "x = data[:,1:]\n",
    "data"
   ]
  },
  {
   "cell_type": "code",
   "execution_count": 3,
   "metadata": {},
   "outputs": [],
   "source": [
    "from sklearn.model_selection import KFold\n",
    "kf = KFold(n_splits=5, shuffle=True, random_state=42)"
   ]
  },
  {
   "cell_type": "code",
   "execution_count": 4,
   "metadata": {},
   "outputs": [],
   "source": [
    "from sklearn.neighbors import KNeighborsClassifier"
   ]
  },
  {
   "cell_type": "code",
   "execution_count": 5,
   "metadata": {},
   "outputs": [
    {
     "name": "stdout",
     "output_type": "stream",
     "text": [
      "[1, 0.7304761904761905]\n",
      "[<matplotlib.lines.Line2D object at 0x7effdb3f3358>]\n"
     ]
    }
   ],
   "source": [
    "import matplotlib.pyplot as plt\n",
    "from sklearn.model_selection import cross_val_score\n",
    "ans_nonscale = []\n",
    "res_nonscale = [0, 0]\n",
    "for i in range(1, 51):\n",
    "    neigh = KNeighborsClassifier(n_neighbors=i)\n",
    "    quality = cross_val_score(neigh, x, y, cv=kf, scoring='accuracy')\n",
    "    ans_nonscale.append(np.mean(quality))\n",
    "    if ans_nonscale[-1] > res_nonscale[1]:\n",
    "        res_nonscale[1] = ans_nonscale[-1]\n",
    "        res_nonscale[0] = i\n",
    "print(res_nonscale)\n",
    "graph_nonscale = plt.plot(list(range(1, 51)), ans_nonscale)\n",
    "print(graph_nonscale)\n"
   ]
  },
  {
   "cell_type": "code",
   "execution_count": 6,
   "metadata": {},
   "outputs": [
    {
     "name": "stdout",
     "output_type": "stream",
     "text": [
      "[29, 0.9776190476190475]\n",
      "[<matplotlib.lines.Line2D object at 0x7effdb35cda0>]\n"
     ]
    },
    {
     "data": {
      "image/png": "[encoded data removed]",
      "text/plain": [
       "<Figure size 432x288 with 1 Axes>"
      ]
     },
     "metadata": {
      "needs_background": "light"
     },
     "output_type": "display_data"
    }
   ],
   "source": [
    "from sklearn.preprocessing import scale\n",
    "ans_scale = []\n",
    "x_sc = scale(x)\n",
    "res_scale = [0, 0]\n",
    "for i in range(1, 51):\n",
    "    neigh = KNeighborsClassifier(n_neighbors=i)\n",
    "    quality = cross_val_score(neigh, x_sc, y, cv=kf, scoring='accuracy')\n",
    "    ans_scale.append(np.mean(quality))\n",
    "    if ans_scale[-1] > res_scale[1]:\n",
    "        res_scale[1] = ans_scale[-1]\n",
    "        res_scale[0] = i\n",
    "print(res_scale)\n",
    "graph_scale = plt.plot(list(range(1, 51)), ans_scale)\n",
    "print(graph_scale)\n"
   ]
  },
  {
   "cell_type": "code",
   "execution_count": 1,
   "metadata": {},
   "outputs": [
    {
     "ename": "AttributeError",
     "evalue": "module 'sklearn' has no attribute 'datasets'",
     "output_type": "error",
     "traceback": [
      "\u001b[0;31m---------------------------------------------------------------------------\u001b[0m",
      "\u001b[0;31mAttributeError\u001b[0m                            Traceback (most recent call last)",
      "\u001b[0;32m<ipython-input-1-1cad42de2350>\u001b[0m in \u001b[0;36m<module>\u001b[0;34m\u001b[0m\n\u001b[1;32m      2\u001b[0m \u001b[0;32mimport\u001b[0m \u001b[0mnumpy\u001b[0m \u001b[0;32mas\u001b[0m \u001b[0mnp\u001b[0m\u001b[0;34m\u001b[0m\u001b[0m\n\u001b[1;32m      3\u001b[0m \u001b[0;32mimport\u001b[0m \u001b[0mmatplotlib\u001b[0m\u001b[0;34m.\u001b[0m\u001b[0mpyplot\u001b[0m \u001b[0;32mas\u001b[0m \u001b[0mplt\u001b[0m\u001b[0;34m\u001b[0m\u001b[0m\n\u001b[0;32m----> 4\u001b[0;31m \u001b[0mbstn\u001b[0m \u001b[0;34m=\u001b[0m \u001b[0msklearn\u001b[0m\u001b[0;34m.\u001b[0m\u001b[0mdatasets\u001b[0m\u001b[0;34m.\u001b[0m\u001b[0mload_boston\u001b[0m\u001b[0;34m(\u001b[0m\u001b[0;34m)\u001b[0m\u001b[0;34m\u001b[0m\u001b[0m\n\u001b[0m\u001b[1;32m      5\u001b[0m \u001b[0mx\u001b[0m \u001b[0;34m=\u001b[0m \u001b[0msklearn\u001b[0m\u001b[0;34m.\u001b[0m\u001b[0mpreprocessing\u001b[0m\u001b[0;34m.\u001b[0m\u001b[0mscale\u001b[0m\u001b[0;34m(\u001b[0m\u001b[0mbstn\u001b[0m\u001b[0;34m[\u001b[0m\u001b[0;34m'data'\u001b[0m\u001b[0;34m]\u001b[0m\u001b[0;34m,\u001b[0m \u001b[0maxis\u001b[0m\u001b[0;34m=\u001b[0m\u001b[0;36m0\u001b[0m\u001b[0;34m)\u001b[0m\u001b[0;34m\u001b[0m\u001b[0m\n\u001b[1;32m      6\u001b[0m \u001b[0my\u001b[0m \u001b[0;34m=\u001b[0m \u001b[0mbstn\u001b[0m\u001b[0;34m[\u001b[0m\u001b[0;34m'target'\u001b[0m\u001b[0;34m]\u001b[0m\u001b[0;34m\u001b[0m\u001b[0m\n",
      "\u001b[0;31mAttributeError\u001b[0m: module 'sklearn' has no attribute 'datasets'"
     ]
    }
   ],
   "source": [
    "import sklearn\n",
    "import numpy as np\n",
    "import matplotlib.pyplot as plt\n",
    "bstn = sklearn.datasets.load_boston()\n",
    "x = sklearn.preprocessing.scale(bstn['data'], axis=0)\n",
    "y = bstn['target']\n",
    "kf = sklearn.model_selection.KFold(n_splits=5, shuffle=True, random_state=42)\n",
    "ans = []\n",
    "steps = np.linspace(1, 10, num=200)\n",
    "res = [0, -500]\n",
    "for pm in steps:\n",
    "    neigh = sklearn.neighbors.KNeighborsRegressor(n_neighbors=5, weights='distance', p=pm)\n",
    "    quality = cross_val_score(neigh, x, y, cv=kf, scoring='neg_mean_squared_error')\n",
    "    ans.append(np.mean(quality))\n",
    "    if ans[-1] > res[1]:\n",
    "        res[1] = ans[-1]\n",
    "        res[0] = i\n",
    "# graph = plt.plot(steps, ans)\n",
    "# print(graph)\n",
    "print(res)"
   ]
  },
  {
   "cell_type": "code",
   "execution_count": 4,
   "metadata": {},
   "outputs": [],
   "source": [
    "import numpy as np\n",
    "from sklearn.linear_model import Perceptron\n",
    "X = np.array([[1, 2], [3, 4], [5, 6]])\n",
    "y = np.array([0, 1, 0])\n",
    "clf = Perceptron()\n",
    "clf.fit(X, y)\n",
    "predictions = clf.predict(X)"
   ]
  },
  {
   "cell_type": "code",
   "execution_count": 3,
   "metadata": {},
   "outputs": [],
   "source": [
    "from sklearn.preprocessing import StandardScaler\n",
    "scaler = StandardScaler()\n",
    "X_train = np.array([[100.0, 2.0], [50.0, 4.0], [70.0, 6.0]])\n",
    "X_test = np.array([[90.0, 1], [40.0, 3], [60.0, 4]])\n",
    "X_train_scaled = scaler.fit_transform(X_train)\n",
    "X_test_scaled = scaler.transform(X_test)"
   ]
  },
  {
   "cell_type": "code",
   "execution_count": 9,
   "metadata": {
    "scrolled": true
   },
   "outputs": [
    {
     "data": {
      "text/plain": [
       "0.18999999999999995"
      ]
     },
     "execution_count": 9,
     "metadata": {},
     "output_type": "execute_result"
    }
   ],
   "source": [
    "import numpy as np\n",
    "import sklearn\n",
    "# scaler init\n",
    "scaler = sklearn.preprocessing.StandardScaler()\n",
    "# data downloading\n",
    "data = np.genfromtxt('perceptron-train.csv', delimiter=',')\n",
    "data2 = np.genfromtxt('perceptron-test.csv', delimiter=',')\n",
    "ytrn = data[:,0]\n",
    "Xtrn_nonscaled = data[:,1:]\n",
    "ytst = data2[:,0]\n",
    "Xtst_nonscaled = data2[:,1:]\n",
    "# Data scaling\n",
    "Xtrn_scaled = scaler.fit_transform(Xtrn_nonscaled)\n",
    "Xtst_scaled = scaler.transform(Xtst_nonscaled)\n",
    "# Perceptron learning for nonscaled data\n",
    "clf = sklearn.linear_model.Perceptron()\n",
    "clf.fit(Xtrn_nonscaled, ytrn)\n",
    "# Prediction by nonscaled data\n",
    "predictions_nonscaled = clf.predict(Xtst_nonscaled)\n",
    "# Accuracy of prediction\n",
    "accur_nonscaled = sklearn.metrics.accuracy_score(ytst, predictions_nonscaled)\n",
    "# Perceptron learning for scaled data\n",
    "clf.fit(Xtrn_scaled, ytrn)\n",
    "# Prediction by scaled data\n",
    "predictions_scaled = clf.predict(Xtst_scaled)\n",
    "# Accuracy of prediction\n",
    "accur_scaled = sklearn.metrics.accuracy_score(ytst, predictions_scaled)\n",
    "accur_scaled - accur_nonscaled"
   ]
  }
 ],
 "metadata": {
  "kernelspec": {
   "display_name": "Python 3",
   "language": "python",
   "name": "python3"
  },
  "language_info": {
   "codemirror_mode": {
    "name": "ipython",
    "version": 3
   },
   "file_extension": ".py",
   "mimetype": "text/x-python",
   "name": "python",
   "nbconvert_exporter": "python",
   "pygments_lexer": "ipython3",
   "version": "3.5.2"
  }
 },
 "nbformat": 4,
 "nbformat_minor": 4
}
