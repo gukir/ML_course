{
 "cells": [
  {
   "cell_type": "code",
   "execution_count": 1,
   "metadata": {},
   "outputs": [],
   "source": [
    "import numpy as np\n",
    "\n",
    "X = np.array([[1, 2], [3, 4], [5, 6]])\n",
    "y = np.array([-3, 1, 10])\n",
    "clf = RandomForestRegressor(n_estimators=100)\n",
    "clf.fit(X, y)\n",
    "predictions = clf.predict(X)"
   ]
  },
  {
   "cell_type": "code",
   "execution_count": 12,
   "metadata": {},
   "outputs": [],
   "source": [
    "import pandas\n",
    "import os\n",
    "data = pandas.read_csv('abalone.csv')\n",
    "data['Sex'] = data['Sex'].map(lambda x: 1 if x == 'M' else (-1 if x == 'F' else 0))"
   ]
  },
  {
   "cell_type": "code",
   "execution_count": 14,
   "metadata": {},
   "outputs": [],
   "source": [
    "Xin = data.iloc[:,0:-1]\n",
    "Yin = data['Rings']"
   ]
  },
  {
   "cell_type": "code",
   "execution_count": 23,
   "metadata": {},
   "outputs": [
    {
     "name": "stdout",
     "output_type": "stream",
     "text": [
      "1 0.10967482068860261\n",
      "2 0.3413000096365689\n",
      "3 0.406433829066129\n",
      "4 0.4447745857536912\n",
      "5 0.46503241426823594\n",
      "6 0.47139595825898917\n",
      "7 0.4766658451893487\n",
      "8 0.4829348394224631\n",
      "9 0.4894370162945041\n",
      "10 0.4954085552428177\n",
      "11 0.4944111155773555\n",
      "12 0.49902817866563326\n",
      "13 0.5030578549564464\n",
      "14 0.5073168234618861\n",
      "15 0.5091809969556578\n",
      "16 0.5114105314179662\n",
      "17 0.5148917747729636\n",
      "18 0.5172203573170132\n",
      "19 0.5198293095329432\n",
      "20 0.51948435033775\n",
      "21 0.520529096463528\n"
     ]
    }
   ],
   "source": [
    "from sklearn.model_selection import KFold\n",
    "from sklearn.metrics import r2_score\n",
    "from sklearn.model_selection import cross_val_score\n",
    "from sklearn.ensemble import RandomForestRegressor\n",
    "kf = KFold(n_splits=5, shuffle=True, random_state=1)\n",
    "for i in range(1, 50):\n",
    "    clf = RandomForestRegressor(n_estimators=i, random_state=1)\n",
    "    quality = np.mean(cross_val_score(clf, Xin, Yin, cv=kf, scoring='r2'))\n",
    "    print(i, quality)\n",
    "    if quality > 0.52:\n",
    "        break\n",
    "fout = open('./ans/1forest', 'w', encoding='utf-8')\n",
    "print(i+1, file=fout, end='')\n",
    "fout.close()"
   ]
  }
 ],
 "metadata": {
  "kernelspec": {
   "display_name": "Python 3",
   "language": "python",
   "name": "python3"
  },
  "language_info": {
   "codemirror_mode": {
    "name": "ipython",
    "version": 3
   },
   "file_extension": ".py",
   "mimetype": "text/x-python",
   "name": "python",
   "nbconvert_exporter": "python",
   "pygments_lexer": "ipython3",
   "version": "3.5.2"
  }
 },
 "nbformat": 4,
 "nbformat_minor": 4
}
